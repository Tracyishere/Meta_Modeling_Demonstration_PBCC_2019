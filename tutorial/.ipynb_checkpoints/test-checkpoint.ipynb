{
 "cells": [
  {
   "cell_type": "code",
   "execution_count": 6,
   "metadata": {},
   "outputs": [],
   "source": [
    "import os, sys, numpy as np, copy\n",
    "import scipy.stats as stats\n",
    "import json\n",
    "import matplotlib.pyplot as plt\n",
    "\n",
    "from IPython.display import IFrame\n",
    "\n",
    "import pymc3 as pm\n",
    "from pymc3.variational.callbacks import CheckParametersConvergence\n",
    "\n",
    "mealmodelname\n",
    "sys.path.append(\"..\")\n",
    "from mm.models import MealModel, SPTModel\n",
    "from mm.core import jit\n",
    "from mm.utils import set_start"
   ]
  },
  {
   "cell_type": "code",
   "execution_count": 7,
   "metadata": {},
   "outputs": [],
   "source": [
    "HP_FN = os.path.abspath(\"default_params.json\")\n",
    "with open(HP_FN, \"r\") as of:\n",
    "    params = json.load(of)\n",
    "\n",
    "data1 = np.loadtxt(\"./datasets/Gintake.dat\")\n",
    "t_data = data1[:, 0]\n",
    "DGintake_data = data1[:, 1]\n",
    "Gintake_data = data1[:, 2]\n",
    "nt = len(DGintake_data)\n",
    "\n",
    "# load input insulin secretion data\n",
    "data2 = np.loadtxt(\"./datasets/glucose_insulin_normal.dat\")\n",
    "G_data = data2[:,1]\n",
    "I_data = data2[:,2]"
   ]
  },
  {
   "cell_type": "code",
   "execution_count": 8,
   "metadata": {},
   "outputs": [],
   "source": [
    "# get Gaussian KDE\n",
    "def get_gaussian_kde(samples):\n",
    "    smin, smax = np.min(samples), np.max(samples)\n",
    "    width = smax - smin\n",
    "    y, bin_edges = np.histogram(samples, bins=25, density=True)\n",
    "    x = [0.5*(bin_edges[i]+bin_edges[i+1]) for i in range(len(y))]\n",
    "    return x, y"
   ]
  },
  {
   "cell_type": "code",
   "execution_count": 9,
   "metadata": {},
   "outputs": [],
   "source": [
    "mealmodelname = \"meal_normal\""
   ]
  },
  {
   "cell_type": "code",
   "execution_count": 10,
   "metadata": {},
   "outputs": [],
   "source": [
    "@jit\n",
    "def MetaModel1(name=\"meta1\", hpfn = HP_FN, t=2, inputs={}, start={}, evidence={}):\n",
    "    # define meal model\n",
    "    meal = MealModel(name=mealmodelname, hpfn=hpfn, inputs=inputs, start=start,\n",
    "                     evidence=evidence, t=t)\n",
    "\n",
    "    # prepare inputs to spt model to couple with plasma glucose from meal model\n",
    "    spt_inputs = copy.copy(inputs)\n",
    "    spt_inputs.update({\"G_in\": 0.5 * meal.G})\n",
    "\n",
    "    # now define spt model with this input\n",
    "    spt = SPTModel(name=\"spt\", hpfn=hpfn, inputs=spt_inputs, start=start,\n",
    "                   evidence=evidence, t=t)\n",
    "\n",
    "    # combine the plasma insulin from both models\n",
    "    I = pm.Normal(\"I\", mu=0.5*(meal.I + spt.I), sigma=0.1, shape=t)"
   ]
  },
  {
   "cell_type": "code",
   "execution_count": 21,
   "metadata": {},
   "outputs": [],
   "source": [
    "def run_experiment_1(nsamples=1000):\n",
    "    # get estimate of k in diabetic conditions\n",
    "\n",
    "    # specify inputs, evidence, start\n",
    "    inputs = {\"DGintake\": DGintake_data}\n",
    "\n",
    "    evidence = {\"%meta1_I\" :    I_data}\n",
    "\n",
    "    start = {\"%s_State\" % mealmodelname: set_start(\"State\", mealmodelname, hpfn=HP_FN),\n",
    "             \"spt_S\": set_start(\"S\", \"spt\", hpfn=HP_FN),\n",
    "             \"spt_I\": set_start(\"I\", \"spt\", hpfn=HP_FN)}\n",
    "\n",
    "    # create the metamodel\n",
    "    print(\"\\nBuilding metamodel-1...\")\n",
    "    m = MetaModel1(name=\"meta1\", inputs=inputs, evidence=evidence,\n",
    "                   start=start, t=nt)\n",
    "\n",
    "    # visualize the model\n",
    "    pm.model_to_graphviz(m).render(\"metamodel_1\")\n",
    "    os.remove(\"metamodel_1\")\n",
    "    relpath=os.path.relpath(\"./metamodel_1.pdf\")\n",
    "    IFrame(relpath, width=600, height=300)\n",
    "    print(\"here\")"
   ]
  },
  {
   "cell_type": "code",
   "execution_count": 22,
   "metadata": {},
   "outputs": [
    {
     "name": "stdout",
     "output_type": "stream",
     "text": [
      "\n",
      "Building metamodel-1...\n"
     ]
    },
    {
     "ename": "NameError",
     "evalue": "name 'relpath' is not defined",
     "output_type": "error",
     "traceback": [
      "\u001b[0;31m---------------------------------------------------------------------------\u001b[0m",
      "\u001b[0;31mNameError\u001b[0m                                 Traceback (most recent call last)",
      "\u001b[0;32m<ipython-input-22-b09d5e1e9b27>\u001b[0m in \u001b[0;36m<module>\u001b[0;34m\u001b[0m\n\u001b[0;32m----> 1\u001b[0;31m \u001b[0mrun_experiment_1\u001b[0m\u001b[0;34m(\u001b[0m\u001b[0;34m)\u001b[0m\u001b[0;34m\u001b[0m\u001b[0;34m\u001b[0m\u001b[0m\n\u001b[0m",
      "\u001b[0;32m<ipython-input-21-07db98371313>\u001b[0m in \u001b[0;36mrun_experiment_1\u001b[0;34m(nsamples)\u001b[0m\n\u001b[1;32m     20\u001b[0m     \u001b[0mos\u001b[0m\u001b[0;34m.\u001b[0m\u001b[0mremove\u001b[0m\u001b[0;34m(\u001b[0m\u001b[0;34m\"metamodel_1\"\u001b[0m\u001b[0;34m)\u001b[0m\u001b[0;34m\u001b[0m\u001b[0;34m\u001b[0m\u001b[0m\n\u001b[1;32m     21\u001b[0m     \u001b[0mpath\u001b[0m\u001b[0;34m=\u001b[0m\u001b[0mos\u001b[0m\u001b[0;34m.\u001b[0m\u001b[0mpath\u001b[0m\u001b[0;34m.\u001b[0m\u001b[0mrelpath\u001b[0m\u001b[0;34m(\u001b[0m\u001b[0;34m\"./metamodel_1.pdf\"\u001b[0m\u001b[0;34m)\u001b[0m\u001b[0;34m\u001b[0m\u001b[0;34m\u001b[0m\u001b[0m\n\u001b[0;32m---> 22\u001b[0;31m     \u001b[0mIFrame\u001b[0m\u001b[0;34m(\u001b[0m\u001b[0mrelpath\u001b[0m\u001b[0;34m,\u001b[0m \u001b[0mwidth\u001b[0m\u001b[0;34m=\u001b[0m\u001b[0;36m600\u001b[0m\u001b[0;34m,\u001b[0m \u001b[0mheight\u001b[0m\u001b[0;34m=\u001b[0m\u001b[0;36m300\u001b[0m\u001b[0;34m)\u001b[0m\u001b[0;34m\u001b[0m\u001b[0;34m\u001b[0m\u001b[0m\n\u001b[0m\u001b[1;32m     23\u001b[0m     \u001b[0mprint\u001b[0m\u001b[0;34m(\u001b[0m\u001b[0;34m\"here\"\u001b[0m\u001b[0;34m)\u001b[0m\u001b[0;34m\u001b[0m\u001b[0;34m\u001b[0m\u001b[0m\n",
      "\u001b[0;31mNameError\u001b[0m: name 'relpath' is not defined"
     ]
    }
   ],
   "source": [
    "run_experiment_1()"
   ]
  },
  {
   "cell_type": "code",
   "execution_count": null,
   "metadata": {},
   "outputs": [],
   "source": []
  },
  {
   "cell_type": "code",
   "execution_count": null,
   "metadata": {},
   "outputs": [],
   "source": []
  }
 ],
 "metadata": {
  "kernelspec": {
   "display_name": "Python 3",
   "language": "python",
   "name": "python3"
  },
  "language_info": {
   "codemirror_mode": {
    "name": "ipython",
    "version": 3
   },
   "file_extension": ".py",
   "mimetype": "text/x-python",
   "name": "python",
   "nbconvert_exporter": "python",
   "pygments_lexer": "ipython3",
   "version": "3.7.3"
  }
 },
 "nbformat": 4,
 "nbformat_minor": 2
}
